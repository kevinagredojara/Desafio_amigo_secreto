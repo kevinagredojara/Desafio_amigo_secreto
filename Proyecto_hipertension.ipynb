{
  "nbformat": 4,
  "nbformat_minor": 0,
  "metadata": {
    "colab": {
      "provenance": [],
      "toc_visible": true,
      "authorship_tag": "ABX9TyO6CFxZfdoz7neWl2Ph93+j",
      "include_colab_link": true
    },
    "kernelspec": {
      "name": "python3",
      "display_name": "Python 3"
    },
    "language_info": {
      "name": "python"
    }
  },
  "cells": [
    {
      "cell_type": "markdown",
      "metadata": {
        "id": "view-in-github",
        "colab_type": "text"
      },
      "source": [
        "<a href=\"https://colab.research.google.com/github/kevinagredojara/Desafio_amigo_secreto/blob/main/Proyecto_hipertension.ipynb\" target=\"_parent\"><img src=\"https://colab.research.google.com/assets/colab-badge.svg\" alt=\"Open In Colab\"/></a>"
      ]
    },
    {
      "cell_type": "markdown",
      "source": [
        "# Introducción\n",
        "\n"
      ],
      "metadata": {
        "id": "IBiX7fStoqvd"
      }
    },
    {
      "cell_type": "markdown",
      "source": [
        " El propósito de este análisis es construir un modelo de Machine Learning capaz de predecir si un paciente tiene hipertensión basándose en un conjunto de datos demográficos, clínicos y de estilo de vida. A través de este proceso, exploraremos los datos para identificar los factores de riesgo más influyentes y evaluaremos el rendimiento de diferentes modelos predictivos para encontrar el más efectivo."
      ],
      "metadata": {
        "id": "65n35_aRqcDe"
      }
    },
    {
      "cell_type": "markdown",
      "source": [
        "# Dataset\n",
        "\n",
        "\n",
        "\n"
      ],
      "metadata": {
        "id": "6IlC_VMpp7GY"
      }
    },
    {
      "cell_type": "markdown",
      "source": [
        "El dataset utilizado en este proyecto proviene del [Conjunto de Datos de Predicción del Riesgo de Hipertensión](https://www.kaggle.com/datasets/miadul/hypertension-risk-prediction-dataset).\n",
        "Incluye diversos indicadores de salud y estilo de vida, como la edad, el IMC, la presión arterial, el nivel de estrés, la duración del sueño y la actividad física."
      ],
      "metadata": {
        "id": "7Z-uGmVKqg6C"
      }
    },
    {
      "cell_type": "markdown",
      "source": [
        "# Pasos"
      ],
      "metadata": {
        "id": "rySaQFLgsLj6"
      }
    },
    {
      "cell_type": "markdown",
      "source": [
        "# Paso 1 - Importar las Librerías"
      ],
      "metadata": {
        "id": "uuWDAHXHsicy"
      }
    },
    {
      "cell_type": "markdown",
      "source": [
        "Antes de comenzar, necesitamos importar las herramientas que utilizaremos a lo largo del análisis.\n",
        "\n",
        "* Pandas para la manipulación de datos.\n",
        "\n",
        "* NumPy para operaciones numéricas.\n",
        "\n",
        "* Matplotlib y Seaborn para la visualización de datos."
      ],
      "metadata": {
        "id": "1bsuRV3xsr57"
      }
    },
    {
      "cell_type": "code",
      "source": [
        "import pandas as pd\n",
        "import numpy as np\n",
        "import matplotlib.pyplot as plt\n",
        "import seaborn as sns\n",
        "\n",
        "print(\"Librerías importadas correctamente.\")"
      ],
      "metadata": {
        "colab": {
          "base_uri": "https://localhost:8080/"
        },
        "id": "qT--TZ2QtBb1",
        "outputId": "66e55ba8-2b66-41da-be19-9f181baff68f"
      },
      "execution_count": 1,
      "outputs": [
        {
          "output_type": "stream",
          "name": "stdout",
          "text": [
            "Librerías importadas correctamente.\n"
          ]
        }
      ]
    },
    {
      "cell_type": "markdown",
      "source": [
        "# Paso 2 - Cargar el Dataset"
      ],
      "metadata": {
        "id": "fEKwhi42ut_G"
      }
    },
    {
      "cell_type": "markdown",
      "source": [
        "Ahora, cargaremos nuestro archivo hipertension_dataset.csv en un DataFrame de Pandas, que es la estructura fundamental para trabajar con datos tabulares en Python."
      ],
      "metadata": {
        "id": "YJ60lxwdu5Hz"
      }
    },
    {
      "cell_type": "code",
      "source": [
        "df = pd.read_csv('hipertension_dataset.csv')\n",
        "\n",
        "print(\"Dataset 'hipertension_dataset.csv' cargado exitosamente.\")"
      ],
      "metadata": {
        "colab": {
          "base_uri": "https://localhost:8080/"
        },
        "id": "iP_lX2g_u-qS",
        "outputId": "b6432af8-d9e7-45dd-8db4-602c0a38610a"
      },
      "execution_count": 2,
      "outputs": [
        {
          "output_type": "stream",
          "name": "stdout",
          "text": [
            "Dataset 'hipertension_dataset.csv' cargado exitosamente.\n"
          ]
        }
      ]
    },
    {
      "cell_type": "markdown",
      "source": [
        "Es una buena práctica observar las primeras filas del dataset para tener una primera impresión de las columnas y los datos que contienen."
      ],
      "metadata": {
        "id": "Pv33xd_IwrTI"
      }
    },
    {
      "cell_type": "code",
      "source": [
        "df.head()"
      ],
      "metadata": {
        "colab": {
          "base_uri": "https://localhost:8080/",
          "height": 243
        },
        "id": "T1H9GhWywzER",
        "outputId": "ee466456-e9fb-4800-b0e4-b54b555b6019"
      },
      "execution_count": 3,
      "outputs": [
        {
          "output_type": "execute_result",
          "data": {
            "text/plain": [
              "   Edad  Consumo_Sal  Nivel_Estres     Historial_PA  Duracion_Sueño   IMC  \\\n",
              "0    69          8.0             9           Normal             6.4  25.8   \n",
              "1    32         11.7            10           Normal             5.4  23.4   \n",
              "2    78          9.5             3           Normal             7.1  18.7   \n",
              "3    38         10.0            10     Hipertensión             4.2  22.1   \n",
              "4    41          9.8             1  Prehipertensión             5.8  16.2   \n",
              "\n",
              "      Medicacion Historial_Familiar Nivel_Ejercicio Estado_Tabaquismo  \\\n",
              "0            NaN                 Sí            Bajo        No Fumador   \n",
              "1            NaN                 No            Bajo        No Fumador   \n",
              "2            NaN                 No        Moderado        No Fumador   \n",
              "3  Inhibidor ECA                 No            Bajo        No Fumador   \n",
              "4           Otro                 No        Moderado        No Fumador   \n",
              "\n",
              "  Hipertension  \n",
              "0           Sí  \n",
              "1           No  \n",
              "2           No  \n",
              "3           Sí  \n",
              "4           No  "
            ],
            "text/html": [
              "\n",
              "  <div id=\"df-92e4cfa6-4694-497b-9fd1-4eb4e105b451\" class=\"colab-df-container\">\n",
              "    <div>\n",
              "<style scoped>\n",
              "    .dataframe tbody tr th:only-of-type {\n",
              "        vertical-align: middle;\n",
              "    }\n",
              "\n",
              "    .dataframe tbody tr th {\n",
              "        vertical-align: top;\n",
              "    }\n",
              "\n",
              "    .dataframe thead th {\n",
              "        text-align: right;\n",
              "    }\n",
              "</style>\n",
              "<table border=\"1\" class=\"dataframe\">\n",
              "  <thead>\n",
              "    <tr style=\"text-align: right;\">\n",
              "      <th></th>\n",
              "      <th>Edad</th>\n",
              "      <th>Consumo_Sal</th>\n",
              "      <th>Nivel_Estres</th>\n",
              "      <th>Historial_PA</th>\n",
              "      <th>Duracion_Sueño</th>\n",
              "      <th>IMC</th>\n",
              "      <th>Medicacion</th>\n",
              "      <th>Historial_Familiar</th>\n",
              "      <th>Nivel_Ejercicio</th>\n",
              "      <th>Estado_Tabaquismo</th>\n",
              "      <th>Hipertension</th>\n",
              "    </tr>\n",
              "  </thead>\n",
              "  <tbody>\n",
              "    <tr>\n",
              "      <th>0</th>\n",
              "      <td>69</td>\n",
              "      <td>8.0</td>\n",
              "      <td>9</td>\n",
              "      <td>Normal</td>\n",
              "      <td>6.4</td>\n",
              "      <td>25.8</td>\n",
              "      <td>NaN</td>\n",
              "      <td>Sí</td>\n",
              "      <td>Bajo</td>\n",
              "      <td>No Fumador</td>\n",
              "      <td>Sí</td>\n",
              "    </tr>\n",
              "    <tr>\n",
              "      <th>1</th>\n",
              "      <td>32</td>\n",
              "      <td>11.7</td>\n",
              "      <td>10</td>\n",
              "      <td>Normal</td>\n",
              "      <td>5.4</td>\n",
              "      <td>23.4</td>\n",
              "      <td>NaN</td>\n",
              "      <td>No</td>\n",
              "      <td>Bajo</td>\n",
              "      <td>No Fumador</td>\n",
              "      <td>No</td>\n",
              "    </tr>\n",
              "    <tr>\n",
              "      <th>2</th>\n",
              "      <td>78</td>\n",
              "      <td>9.5</td>\n",
              "      <td>3</td>\n",
              "      <td>Normal</td>\n",
              "      <td>7.1</td>\n",
              "      <td>18.7</td>\n",
              "      <td>NaN</td>\n",
              "      <td>No</td>\n",
              "      <td>Moderado</td>\n",
              "      <td>No Fumador</td>\n",
              "      <td>No</td>\n",
              "    </tr>\n",
              "    <tr>\n",
              "      <th>3</th>\n",
              "      <td>38</td>\n",
              "      <td>10.0</td>\n",
              "      <td>10</td>\n",
              "      <td>Hipertensión</td>\n",
              "      <td>4.2</td>\n",
              "      <td>22.1</td>\n",
              "      <td>Inhibidor ECA</td>\n",
              "      <td>No</td>\n",
              "      <td>Bajo</td>\n",
              "      <td>No Fumador</td>\n",
              "      <td>Sí</td>\n",
              "    </tr>\n",
              "    <tr>\n",
              "      <th>4</th>\n",
              "      <td>41</td>\n",
              "      <td>9.8</td>\n",
              "      <td>1</td>\n",
              "      <td>Prehipertensión</td>\n",
              "      <td>5.8</td>\n",
              "      <td>16.2</td>\n",
              "      <td>Otro</td>\n",
              "      <td>No</td>\n",
              "      <td>Moderado</td>\n",
              "      <td>No Fumador</td>\n",
              "      <td>No</td>\n",
              "    </tr>\n",
              "  </tbody>\n",
              "</table>\n",
              "</div>\n",
              "    <div class=\"colab-df-buttons\">\n",
              "\n",
              "  <div class=\"colab-df-container\">\n",
              "    <button class=\"colab-df-convert\" onclick=\"convertToInteractive('df-92e4cfa6-4694-497b-9fd1-4eb4e105b451')\"\n",
              "            title=\"Convert this dataframe to an interactive table.\"\n",
              "            style=\"display:none;\">\n",
              "\n",
              "  <svg xmlns=\"http://www.w3.org/2000/svg\" height=\"24px\" viewBox=\"0 -960 960 960\">\n",
              "    <path d=\"M120-120v-720h720v720H120Zm60-500h600v-160H180v160Zm220 220h160v-160H400v160Zm0 220h160v-160H400v160ZM180-400h160v-160H180v160Zm440 0h160v-160H620v160ZM180-180h160v-160H180v160Zm440 0h160v-160H620v160Z\"/>\n",
              "  </svg>\n",
              "    </button>\n",
              "\n",
              "  <style>\n",
              "    .colab-df-container {\n",
              "      display:flex;\n",
              "      gap: 12px;\n",
              "    }\n",
              "\n",
              "    .colab-df-convert {\n",
              "      background-color: #E8F0FE;\n",
              "      border: none;\n",
              "      border-radius: 50%;\n",
              "      cursor: pointer;\n",
              "      display: none;\n",
              "      fill: #1967D2;\n",
              "      height: 32px;\n",
              "      padding: 0 0 0 0;\n",
              "      width: 32px;\n",
              "    }\n",
              "\n",
              "    .colab-df-convert:hover {\n",
              "      background-color: #E2EBFA;\n",
              "      box-shadow: 0px 1px 2px rgba(60, 64, 67, 0.3), 0px 1px 3px 1px rgba(60, 64, 67, 0.15);\n",
              "      fill: #174EA6;\n",
              "    }\n",
              "\n",
              "    .colab-df-buttons div {\n",
              "      margin-bottom: 4px;\n",
              "    }\n",
              "\n",
              "    [theme=dark] .colab-df-convert {\n",
              "      background-color: #3B4455;\n",
              "      fill: #D2E3FC;\n",
              "    }\n",
              "\n",
              "    [theme=dark] .colab-df-convert:hover {\n",
              "      background-color: #434B5C;\n",
              "      box-shadow: 0px 1px 3px 1px rgba(0, 0, 0, 0.15);\n",
              "      filter: drop-shadow(0px 1px 2px rgba(0, 0, 0, 0.3));\n",
              "      fill: #FFFFFF;\n",
              "    }\n",
              "  </style>\n",
              "\n",
              "    <script>\n",
              "      const buttonEl =\n",
              "        document.querySelector('#df-92e4cfa6-4694-497b-9fd1-4eb4e105b451 button.colab-df-convert');\n",
              "      buttonEl.style.display =\n",
              "        google.colab.kernel.accessAllowed ? 'block' : 'none';\n",
              "\n",
              "      async function convertToInteractive(key) {\n",
              "        const element = document.querySelector('#df-92e4cfa6-4694-497b-9fd1-4eb4e105b451');\n",
              "        const dataTable =\n",
              "          await google.colab.kernel.invokeFunction('convertToInteractive',\n",
              "                                                    [key], {});\n",
              "        if (!dataTable) return;\n",
              "\n",
              "        const docLinkHtml = 'Like what you see? Visit the ' +\n",
              "          '<a target=\"_blank\" href=https://colab.research.google.com/notebooks/data_table.ipynb>data table notebook</a>'\n",
              "          + ' to learn more about interactive tables.';\n",
              "        element.innerHTML = '';\n",
              "        dataTable['output_type'] = 'display_data';\n",
              "        await google.colab.output.renderOutput(dataTable, element);\n",
              "        const docLink = document.createElement('div');\n",
              "        docLink.innerHTML = docLinkHtml;\n",
              "        element.appendChild(docLink);\n",
              "      }\n",
              "    </script>\n",
              "  </div>\n",
              "\n",
              "\n",
              "    <div id=\"df-8db97aa1-0afa-47da-b2c7-694ecfdb41d7\">\n",
              "      <button class=\"colab-df-quickchart\" onclick=\"quickchart('df-8db97aa1-0afa-47da-b2c7-694ecfdb41d7')\"\n",
              "                title=\"Suggest charts\"\n",
              "                style=\"display:none;\">\n",
              "\n",
              "<svg xmlns=\"http://www.w3.org/2000/svg\" height=\"24px\"viewBox=\"0 0 24 24\"\n",
              "     width=\"24px\">\n",
              "    <g>\n",
              "        <path d=\"M19 3H5c-1.1 0-2 .9-2 2v14c0 1.1.9 2 2 2h14c1.1 0 2-.9 2-2V5c0-1.1-.9-2-2-2zM9 17H7v-7h2v7zm4 0h-2V7h2v10zm4 0h-2v-4h2v4z\"/>\n",
              "    </g>\n",
              "</svg>\n",
              "      </button>\n",
              "\n",
              "<style>\n",
              "  .colab-df-quickchart {\n",
              "      --bg-color: #E8F0FE;\n",
              "      --fill-color: #1967D2;\n",
              "      --hover-bg-color: #E2EBFA;\n",
              "      --hover-fill-color: #174EA6;\n",
              "      --disabled-fill-color: #AAA;\n",
              "      --disabled-bg-color: #DDD;\n",
              "  }\n",
              "\n",
              "  [theme=dark] .colab-df-quickchart {\n",
              "      --bg-color: #3B4455;\n",
              "      --fill-color: #D2E3FC;\n",
              "      --hover-bg-color: #434B5C;\n",
              "      --hover-fill-color: #FFFFFF;\n",
              "      --disabled-bg-color: #3B4455;\n",
              "      --disabled-fill-color: #666;\n",
              "  }\n",
              "\n",
              "  .colab-df-quickchart {\n",
              "    background-color: var(--bg-color);\n",
              "    border: none;\n",
              "    border-radius: 50%;\n",
              "    cursor: pointer;\n",
              "    display: none;\n",
              "    fill: var(--fill-color);\n",
              "    height: 32px;\n",
              "    padding: 0;\n",
              "    width: 32px;\n",
              "  }\n",
              "\n",
              "  .colab-df-quickchart:hover {\n",
              "    background-color: var(--hover-bg-color);\n",
              "    box-shadow: 0 1px 2px rgba(60, 64, 67, 0.3), 0 1px 3px 1px rgba(60, 64, 67, 0.15);\n",
              "    fill: var(--button-hover-fill-color);\n",
              "  }\n",
              "\n",
              "  .colab-df-quickchart-complete:disabled,\n",
              "  .colab-df-quickchart-complete:disabled:hover {\n",
              "    background-color: var(--disabled-bg-color);\n",
              "    fill: var(--disabled-fill-color);\n",
              "    box-shadow: none;\n",
              "  }\n",
              "\n",
              "  .colab-df-spinner {\n",
              "    border: 2px solid var(--fill-color);\n",
              "    border-color: transparent;\n",
              "    border-bottom-color: var(--fill-color);\n",
              "    animation:\n",
              "      spin 1s steps(1) infinite;\n",
              "  }\n",
              "\n",
              "  @keyframes spin {\n",
              "    0% {\n",
              "      border-color: transparent;\n",
              "      border-bottom-color: var(--fill-color);\n",
              "      border-left-color: var(--fill-color);\n",
              "    }\n",
              "    20% {\n",
              "      border-color: transparent;\n",
              "      border-left-color: var(--fill-color);\n",
              "      border-top-color: var(--fill-color);\n",
              "    }\n",
              "    30% {\n",
              "      border-color: transparent;\n",
              "      border-left-color: var(--fill-color);\n",
              "      border-top-color: var(--fill-color);\n",
              "      border-right-color: var(--fill-color);\n",
              "    }\n",
              "    40% {\n",
              "      border-color: transparent;\n",
              "      border-right-color: var(--fill-color);\n",
              "      border-top-color: var(--fill-color);\n",
              "    }\n",
              "    60% {\n",
              "      border-color: transparent;\n",
              "      border-right-color: var(--fill-color);\n",
              "    }\n",
              "    80% {\n",
              "      border-color: transparent;\n",
              "      border-right-color: var(--fill-color);\n",
              "      border-bottom-color: var(--fill-color);\n",
              "    }\n",
              "    90% {\n",
              "      border-color: transparent;\n",
              "      border-bottom-color: var(--fill-color);\n",
              "    }\n",
              "  }\n",
              "</style>\n",
              "\n",
              "      <script>\n",
              "        async function quickchart(key) {\n",
              "          const quickchartButtonEl =\n",
              "            document.querySelector('#' + key + ' button');\n",
              "          quickchartButtonEl.disabled = true;  // To prevent multiple clicks.\n",
              "          quickchartButtonEl.classList.add('colab-df-spinner');\n",
              "          try {\n",
              "            const charts = await google.colab.kernel.invokeFunction(\n",
              "                'suggestCharts', [key], {});\n",
              "          } catch (error) {\n",
              "            console.error('Error during call to suggestCharts:', error);\n",
              "          }\n",
              "          quickchartButtonEl.classList.remove('colab-df-spinner');\n",
              "          quickchartButtonEl.classList.add('colab-df-quickchart-complete');\n",
              "        }\n",
              "        (() => {\n",
              "          let quickchartButtonEl =\n",
              "            document.querySelector('#df-8db97aa1-0afa-47da-b2c7-694ecfdb41d7 button');\n",
              "          quickchartButtonEl.style.display =\n",
              "            google.colab.kernel.accessAllowed ? 'block' : 'none';\n",
              "        })();\n",
              "      </script>\n",
              "    </div>\n",
              "\n",
              "    </div>\n",
              "  </div>\n"
            ],
            "application/vnd.google.colaboratory.intrinsic+json": {
              "type": "dataframe",
              "variable_name": "df",
              "summary": "{\n  \"name\": \"df\",\n  \"rows\": 1985,\n  \"fields\": [\n    {\n      \"column\": \"Edad\",\n      \"properties\": {\n        \"dtype\": \"number\",\n        \"std\": 19,\n        \"min\": 18,\n        \"max\": 84,\n        \"num_unique_values\": 67,\n        \"samples\": [\n          51,\n          76,\n          41\n        ],\n        \"semantic_type\": \"\",\n        \"description\": \"\"\n      }\n    },\n    {\n      \"column\": \"Consumo_Sal\",\n      \"properties\": {\n        \"dtype\": \"number\",\n        \"std\": 1.9949074335722863,\n        \"min\": 2.5,\n        \"max\": 16.4,\n        \"num_unique_values\": 121,\n        \"samples\": [\n          10.5,\n          11.5,\n          9.8\n        ],\n        \"semantic_type\": \"\",\n        \"description\": \"\"\n      }\n    },\n    {\n      \"column\": \"Nivel_Estres\",\n      \"properties\": {\n        \"dtype\": \"number\",\n        \"std\": 3,\n        \"min\": 0,\n        \"max\": 10,\n        \"num_unique_values\": 11,\n        \"samples\": [\n          7,\n          9,\n          4\n        ],\n        \"semantic_type\": \"\",\n        \"description\": \"\"\n      }\n    },\n    {\n      \"column\": \"Historial_PA\",\n      \"properties\": {\n        \"dtype\": \"category\",\n        \"num_unique_values\": 3,\n        \"samples\": [\n          \"Normal\",\n          \"Hipertensi\\u00f3n\",\n          \"Prehipertensi\\u00f3n\"\n        ],\n        \"semantic_type\": \"\",\n        \"description\": \"\"\n      }\n    },\n    {\n      \"column\": \"Duracion_Sue\\u00f1o\",\n      \"properties\": {\n        \"dtype\": \"number\",\n        \"std\": 1.5422073433503727,\n        \"min\": 1.5,\n        \"max\": 11.4,\n        \"num_unique_values\": 88,\n        \"samples\": [\n          9.3,\n          6.4,\n          6.0\n        ],\n        \"semantic_type\": \"\",\n        \"description\": \"\"\n      }\n    },\n    {\n      \"column\": \"IMC\",\n      \"properties\": {\n        \"dtype\": \"number\",\n        \"std\": 4.5128565463315935,\n        \"min\": 11.9,\n        \"max\": 41.9,\n        \"num_unique_values\": 236,\n        \"samples\": [\n          32.1,\n          16.0,\n          33.4\n        ],\n        \"semantic_type\": \"\",\n        \"description\": \"\"\n      }\n    },\n    {\n      \"column\": \"Medicacion\",\n      \"properties\": {\n        \"dtype\": \"category\",\n        \"num_unique_values\": 4,\n        \"samples\": [\n          \"Otro\",\n          \"Diur\\u00e9tico\",\n          \"Inhibidor ECA\"\n        ],\n        \"semantic_type\": \"\",\n        \"description\": \"\"\n      }\n    },\n    {\n      \"column\": \"Historial_Familiar\",\n      \"properties\": {\n        \"dtype\": \"category\",\n        \"num_unique_values\": 2,\n        \"samples\": [\n          \"No\",\n          \"S\\u00ed\"\n        ],\n        \"semantic_type\": \"\",\n        \"description\": \"\"\n      }\n    },\n    {\n      \"column\": \"Nivel_Ejercicio\",\n      \"properties\": {\n        \"dtype\": \"category\",\n        \"num_unique_values\": 3,\n        \"samples\": [\n          \"Bajo\",\n          \"Moderado\"\n        ],\n        \"semantic_type\": \"\",\n        \"description\": \"\"\n      }\n    },\n    {\n      \"column\": \"Estado_Tabaquismo\",\n      \"properties\": {\n        \"dtype\": \"category\",\n        \"num_unique_values\": 2,\n        \"samples\": [\n          \"Fumador\",\n          \"No Fumador\"\n        ],\n        \"semantic_type\": \"\",\n        \"description\": \"\"\n      }\n    },\n    {\n      \"column\": \"Hipertension\",\n      \"properties\": {\n        \"dtype\": \"category\",\n        \"num_unique_values\": 2,\n        \"samples\": [\n          \"No\",\n          \"S\\u00ed\"\n        ],\n        \"semantic_type\": \"\",\n        \"description\": \"\"\n      }\n    }\n  ]\n}"
            }
          },
          "metadata": {},
          "execution_count": 3
        }
      ]
    },
    {
      "cell_type": "markdown",
      "source": [
        "Para entender la escala de nuestros datos, verificaremos las dimensiones del DataFrame. Esto nos dirá el número total de filas (registros) y columnas (características)."
      ],
      "metadata": {
        "id": "ZKY9zckxw9Xz"
      }
    },
    {
      "cell_type": "code",
      "source": [
        "print(f\"El dataset tiene {df.shape[0]} filas y {df.shape[1]} columnas.\")"
      ],
      "metadata": {
        "colab": {
          "base_uri": "https://localhost:8080/"
        },
        "id": "aUr8LLIQxB5j",
        "outputId": "184d2e74-ec61-482e-cb49-3529bcf7c7ca"
      },
      "execution_count": 4,
      "outputs": [
        {
          "output_type": "stream",
          "name": "stdout",
          "text": [
            "El dataset tiene 1985 filas y 11 columnas.\n"
          ]
        }
      ]
    },
    {
      "cell_type": "markdown",
      "source": [
        "# Paso 3 - Comprobación inicial de la calidad de los datos"
      ],
      "metadata": {
        "id": "j7IpbMHzx2Xl"
      }
    },
    {
      "cell_type": "markdown",
      "source": [
        "Antes de proceder con el análisis, es fundamental realizar una limpieza básica para asegurar la integridad de los datos. Verificaremos la existencia de valores nulos y registros duplicados."
      ],
      "metadata": {
        "id": "VyoSqAMGyGRo"
      }
    },
    {
      "cell_type": "markdown",
      "source": [
        "## Paso 3.1 - Comprobar valores nulos de la biblioteca de Pandas"
      ],
      "metadata": {
        "id": "irICRYXzyfH_"
      }
    },
    {
      "cell_type": "markdown",
      "source": [
        "Los valores nulos pueden generar errores o sesgar los resultados. Este comando nos permite contar cuántos datos faltantes hay en cada columna del DataFrame."
      ],
      "metadata": {
        "id": "Tf-Spqb2ynLC"
      }
    }
  ]
}